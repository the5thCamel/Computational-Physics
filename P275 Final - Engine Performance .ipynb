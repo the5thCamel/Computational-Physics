{
 "cells": [
  {
   "cell_type": "raw",
   "id": "f929e701-94d3-4104-bcc1-da82238a3ad1",
   "metadata": {},
   "source": [
    "# PHYS 275 FINAL\n",
    "\n",
    "# FALL 2023\n",
    "\n",
    "There are 15 questions on this final. Many of them will need you to do a little bit of python coding.\n",
    "\n",
    "1. there is no ugly code. just working and non working.\n",
    "2. you *do* need to *label* everything.\n",
    "3. you *do not* need to save the figure.\n",
    "4. can't solve one question, try the next. Let me know if you get stuck because the result from the previous one is needed in the next question.\n",
    "5. Each question is worth 10pt. Give me *something* to work with. \n",
    "\n",
    "Good Luck!\n",
    "\n",
    "\n",
    "<hr>\n",
    "\n",
    "## Student Name and ID: Chris Stephens and 5439371\n",
    "\n",
    "\n",
    "\n",
    "## Date: 12/7/2023\n",
    "\n",
    "<hr>"
   ]
  },
  {
   "cell_type": "markdown",
   "id": "0f18d4a0",
   "metadata": {},
   "source": [
    "# NASCAR Race Car Performance\n",
    "\n",
    "Your racing team is considering a new carburator design for their Nascar racing car. The manufacturer has provided the test data from a different car that raced this carburator design already. The data has a few columns of mechanic's notes on inspection after the race. Unfortunately, this data is all there is and the pit crew is asking you for recommendations based on only this data. \n",
    "\n",
    "The next race is coming up, should the team enter or not with the new carburator?"
   ]
  },
  {
   "cell_type": "code",
   "execution_count": 1,
   "id": "88978093",
   "metadata": {},
   "outputs": [],
   "source": [
    "from astropy.io import ascii\n",
    "import matplotlib.pyplot as plt\n",
    "import numpy as np\n",
    "from matplotlib import rcParams\n",
    "rcParams[\"savefig.dpi\"] = 150\n",
    "rcParams[\"figure.dpi\"] = 150\n",
    "rcParams[\"font.size\"] = 12\n",
    "rcParams['savefig.bbox'] = 'tight'\n",
    "from scipy import stats\n",
    "import pandas as pd\n",
    "data = ascii.read(\"data.csv\")\n",
    "# data = data[np.where(data['fail']==0.)]"
   ]
  },
  {
   "cell_type": "code",
   "execution_count": 2,
   "id": "a8d3adfd",
   "metadata": {},
   "outputs": [
    {
     "data": {
      "text/html": [
       "<div><i>Table length=23</i>\n",
       "<table id=\"table140037195721696\" class=\"table-striped table-bordered table-condensed\">\n",
       "<thead><tr><th>day</th><th>month</th><th>year</th><th>temp</th><th>pres</th><th>fail</th><th>n</th><th>erosion</th><th>blowby</th><th>damage</th></tr></thead>\n",
       "<thead><tr><th>int64</th><th>int64</th><th>int64</th><th>int64</th><th>int64</th><th>int64</th><th>int64</th><th>int64</th><th>int64</th><th>int64</th></tr></thead>\n",
       "<tr><td>4</td><td>12</td><td>81</td><td>66</td><td>50</td><td>0</td><td>6</td><td>0</td><td>0</td><td>0</td></tr>\n",
       "<tr><td>11</td><td>12</td><td>81</td><td>70</td><td>50</td><td>1</td><td>6</td><td>1</td><td>0</td><td>4</td></tr>\n",
       "<tr><td>3</td><td>22</td><td>82</td><td>69</td><td>50</td><td>0</td><td>6</td><td>0</td><td>0</td><td>0</td></tr>\n",
       "<tr><td>11</td><td>11</td><td>82</td><td>68</td><td>50</td><td>0</td><td>6</td><td>0</td><td>0</td><td>0</td></tr>\n",
       "<tr><td>4</td><td>4</td><td>83</td><td>67</td><td>50</td><td>0</td><td>6</td><td>0</td><td>0</td><td>0</td></tr>\n",
       "<tr><td>6</td><td>18</td><td>83</td><td>72</td><td>50</td><td>0</td><td>6</td><td>0</td><td>0</td><td>0</td></tr>\n",
       "<tr><td>8</td><td>30</td><td>83</td><td>73</td><td>50</td><td>0</td><td>6</td><td>0</td><td>0</td><td>0</td></tr>\n",
       "<tr><td>11</td><td>28</td><td>83</td><td>70</td><td>100</td><td>0</td><td>6</td><td>0</td><td>0</td><td>0</td></tr>\n",
       "<tr><td>2</td><td>3</td><td>84</td><td>57</td><td>100</td><td>1</td><td>6</td><td>1</td><td>0</td><td>4</td></tr>\n",
       "<tr><td>4</td><td>6</td><td>84</td><td>63</td><td>200</td><td>1</td><td>6</td><td>1</td><td>0</td><td>2</td></tr>\n",
       "<tr><td>...</td><td>...</td><td>...</td><td>...</td><td>...</td><td>...</td><td>...</td><td>...</td><td>...</td><td>...</td></tr>\n",
       "<tr><td>1</td><td>24</td><td>85</td><td>53</td><td>200</td><td>2</td><td>6</td><td>3</td><td>2</td><td>11</td></tr>\n",
       "<tr><td>4</td><td>12</td><td>85</td><td>67</td><td>200</td><td>0</td><td>6</td><td>0</td><td>0</td><td>0</td></tr>\n",
       "<tr><td>4</td><td>29</td><td>85</td><td>75</td><td>200</td><td>0</td><td>6</td><td>0</td><td>0</td><td>0</td></tr>\n",
       "<tr><td>6</td><td>17</td><td>85</td><td>70</td><td>200</td><td>0</td><td>6</td><td>0</td><td>0</td><td>0</td></tr>\n",
       "<tr><td>7</td><td>29</td><td>85</td><td>81</td><td>200</td><td>0</td><td>6</td><td>0</td><td>0</td><td>0</td></tr>\n",
       "<tr><td>8</td><td>27</td><td>85</td><td>76</td><td>200</td><td>0</td><td>6</td><td>0</td><td>0</td><td>0</td></tr>\n",
       "<tr><td>10</td><td>3</td><td>85</td><td>79</td><td>200</td><td>0</td><td>6</td><td>0</td><td>0</td><td>0</td></tr>\n",
       "<tr><td>10</td><td>30</td><td>85</td><td>75</td><td>200</td><td>2</td><td>6</td><td>0</td><td>2</td><td>4</td></tr>\n",
       "<tr><td>11</td><td>26</td><td>85</td><td>76</td><td>200</td><td>0</td><td>6</td><td>0</td><td>0</td><td>0</td></tr>\n",
       "<tr><td>1</td><td>12</td><td>86</td><td>58</td><td>200</td><td>1</td><td>6</td><td>1</td><td>0</td><td>4</td></tr>\n",
       "</table></div>"
      ],
      "text/plain": [
       "<Table length=23>\n",
       " day  month  year  temp  pres  fail   n   erosion blowby damage\n",
       "int64 int64 int64 int64 int64 int64 int64  int64  int64  int64 \n",
       "----- ----- ----- ----- ----- ----- ----- ------- ------ ------\n",
       "    4    12    81    66    50     0     6       0      0      0\n",
       "   11    12    81    70    50     1     6       1      0      4\n",
       "    3    22    82    69    50     0     6       0      0      0\n",
       "   11    11    82    68    50     0     6       0      0      0\n",
       "    4     4    83    67    50     0     6       0      0      0\n",
       "    6    18    83    72    50     0     6       0      0      0\n",
       "    8    30    83    73    50     0     6       0      0      0\n",
       "   11    28    83    70   100     0     6       0      0      0\n",
       "    2     3    84    57   100     1     6       1      0      4\n",
       "    4     6    84    63   200     1     6       1      0      2\n",
       "  ...   ...   ...   ...   ...   ...   ...     ...    ...    ...\n",
       "    1    24    85    53   200     2     6       3      2     11\n",
       "    4    12    85    67   200     0     6       0      0      0\n",
       "    4    29    85    75   200     0     6       0      0      0\n",
       "    6    17    85    70   200     0     6       0      0      0\n",
       "    7    29    85    81   200     0     6       0      0      0\n",
       "    8    27    85    76   200     0     6       0      0      0\n",
       "   10     3    85    79   200     0     6       0      0      0\n",
       "   10    30    85    75   200     2     6       0      2      4\n",
       "   11    26    85    76   200     0     6       0      0      0\n",
       "    1    12    86    58   200     1     6       1      0      4"
      ]
     },
     "execution_count": 2,
     "metadata": {},
     "output_type": "execute_result"
    }
   ],
   "source": [
    "data"
   ]
  },
  {
   "cell_type": "markdown",
   "id": "ff3e5e17",
   "metadata": {},
   "source": [
    "### Exercise 1\n",
    "\n",
    "How many races has the car run? "
   ]
  },
  {
   "cell_type": "markdown",
   "id": "2a4e3ab5",
   "metadata": {},
   "source": [
    "*student answer here*\n",
    "23"
   ]
  },
  {
   "cell_type": "markdown",
   "id": "529da03e",
   "metadata": {},
   "source": [
    "### Exercise 2\n",
    "\n",
    "Convert the day/month/year columns into a single decimal 'date' entry in the data. "
   ]
  },
  {
   "cell_type": "code",
   "execution_count": 10,
   "id": "bb630d76",
   "metadata": {},
   "outputs": [],
   "source": [
    "# student answer here\n",
    "data['date'] = data['year']+data['month']/12.+data['day']/365."
   ]
  },
  {
   "cell_type": "markdown",
   "id": "442d4b1a",
   "metadata": {},
   "source": [
    "### Exercise 3\n",
    "\n",
    "Plot the date on the x-axis and the outside temperature on the y-axis. [if you could not generate a 'date' column in exercise 2, use the year for the rest of the questions.]"
   ]
  },
  {
   "cell_type": "code",
   "execution_count": 20,
   "id": "4b432a17",
   "metadata": {},
   "outputs": [
    {
     "data": {
      "text/plain": [
       "Text(0, 0.5, 'Temperature')"
      ]
     },
     "execution_count": 20,
     "metadata": {},
     "output_type": "execute_result"
    },
    {
     "data": {
      "image/png": "[encoded data removed]",
      "text/plain": [
       "<Figure size 900x600 with 1 Axes>"
      ]
     },
     "metadata": {
      "needs_background": "light"
     },
     "output_type": "display_data"
    }
   ],
   "source": [
    "# student answer here\n",
    "x = data['date']\n",
    "y = data['temp']\n",
    "plt.scatter(x, y)\n",
    "plt.xlabel('Date')\n",
    "plt.ylabel('Temperature')\n"
   ]
  },
  {
   "cell_type": "markdown",
   "id": "2ee5164b",
   "metadata": {},
   "source": [
    "### Exercise 4\n",
    "\n",
    "Based on the range of values, what unit is the air temperature reported in? "
   ]
  },
  {
   "cell_type": "markdown",
   "id": "6a4ee833",
   "metadata": {},
   "source": [
    "*student answer here*\n",
    "Fahrenheit"
   ]
  },
  {
   "cell_type": "markdown",
   "id": "6b9f1efd",
   "metadata": {},
   "source": [
    "### Exercise 5\n",
    "\n",
    "Plot date and the three different notes that the mechanics have made upon inspection after each race ('erosion', 'blowby' and 'damage'). Plot each such that the viewer can immediate differentiate each note."
   ]
  },
  {
   "cell_type": "code",
   "execution_count": 18,
   "id": "a5e10efc-84d4-402f-a2be-f5e9002cd5ff",
   "metadata": {},
   "outputs": [
    {
     "data": {
      "text/plain": [
       "<matplotlib.legend.Legend at 0x7fb7d3664fa0>"
      ]
     },
     "execution_count": 18,
     "metadata": {},
     "output_type": "execute_result"
    },
    {
     "data": {
      "image/png": "[encoded data removed]",
      "text/plain": [
       "<Figure size 900x600 with 1 Axes>"
      ]
     },
     "metadata": {
      "needs_background": "light"
     },
     "output_type": "display_data"
    }
   ],
   "source": [
    "# student answer\n",
    "x = data['date']\n",
    "y = data['erosion']\n",
    "z = data['blowby']\n",
    "t = data['damage']\n",
    "plt.scatter(x, y, color='green', label='Erosion')\n",
    "plt.scatter(x, z, color='blue', label='Blowby')\n",
    "plt.scatter(x, t, color='red', label='Damage')\n",
    "plt.xlabel('Year')\n",
    "plt.legend()"
   ]
  },
  {
   "cell_type": "markdown",
   "id": "c47ec672",
   "metadata": {},
   "source": [
    "### Exercise 6\n",
    "\n",
    "Evaluating the mechanic's notes, does the carburator show evidence of much wear over time? Or do you think it was regularly replaced? Motivate your answer."
   ]
  },
  {
   "cell_type": "markdown",
   "id": "32ecaae5",
   "metadata": {},
   "source": [
    "*student answer here*\n",
    "The carborator does not seem to show much wear over time. It seems like it was replaced regularly"
   ]
  },
  {
   "cell_type": "markdown",
   "id": "8a4b4024",
   "metadata": {},
   "source": [
    "### Exercise 7\n",
    "\n",
    "using the pearson and spearman rankings for these three notes, is there a correlation with date?\n",
    "Print using a for loop and format strings to make a neat and legible table."
   ]
  },
  {
   "cell_type": "code",
   "execution_count": 37,
   "id": "15b627f4",
   "metadata": {},
   "outputs": [
    {
     "name": "stdout",
     "output_type": "stream",
     "text": [
      "Pearson:        date      \n",
      "-----------------\n",
      "82.01095890410959\n",
      "82.03013698630137\n",
      "83.84155251141551\n",
      "82.94680365296804\n",
      "83.34429223744291\n",
      "84.51643835616439\n",
      "85.52191780821917\n",
      " 85.3634703196347\n",
      " 84.2554794520548\n",
      "84.51095890410959\n",
      "86.52191780821917\n",
      "84.44406392694064\n",
      "84.69680365296804\n",
      " 87.0027397260274\n",
      "86.01095890410959\n",
      "87.42762557077626\n",
      "86.43310502283106\n",
      "87.43584474885846\n",
      "87.27191780821917\n",
      "85.27739726027397\n",
      "87.52739726027397\n",
      "87.19680365296804\n",
      " 87.0027397260274 erosion: 0.09803 \t 0.65632\n",
      "Pearson:        date      \n",
      "-----------------\n",
      "82.01095890410959\n",
      "82.03013698630137\n",
      "83.84155251141551\n",
      "82.94680365296804\n",
      "83.34429223744291\n",
      "84.51643835616439\n",
      "85.52191780821917\n",
      " 85.3634703196347\n",
      " 84.2554794520548\n",
      "84.51095890410959\n",
      "86.52191780821917\n",
      "84.44406392694064\n",
      "84.69680365296804\n",
      " 87.0027397260274\n",
      "86.01095890410959\n",
      "87.42762557077626\n",
      "86.43310502283106\n",
      "87.43584474885846\n",
      "87.27191780821917\n",
      "85.27739726027397\n",
      "87.52739726027397\n",
      "87.19680365296804\n",
      " 87.0027397260274 blowby: 0.34968 \t 0.10192\n",
      "Pearson:        date      \n",
      "-----------------\n",
      "82.01095890410959\n",
      "82.03013698630137\n",
      "83.84155251141551\n",
      "82.94680365296804\n",
      "83.34429223744291\n",
      "84.51643835616439\n",
      "85.52191780821917\n",
      " 85.3634703196347\n",
      " 84.2554794520548\n",
      "84.51095890410959\n",
      "86.52191780821917\n",
      "84.44406392694064\n",
      "84.69680365296804\n",
      " 87.0027397260274\n",
      "86.01095890410959\n",
      "87.42762557077626\n",
      "86.43310502283106\n",
      "87.43584474885846\n",
      "87.27191780821917\n",
      "85.27739726027397\n",
      "87.52739726027397\n",
      "87.19680365296804\n",
      " 87.0027397260274 damage: 0.18974 \t 0.38588\n",
      "Sperman:        date      \n",
      "-----------------\n",
      "82.01095890410959\n",
      "82.03013698630137\n",
      "83.84155251141551\n",
      "82.94680365296804\n",
      "83.34429223744291\n",
      "84.51643835616439\n",
      "85.52191780821917\n",
      " 85.3634703196347\n",
      " 84.2554794520548\n",
      "84.51095890410959\n",
      "86.52191780821917\n",
      "84.44406392694064\n",
      "84.69680365296804\n",
      " 87.0027397260274\n",
      "86.01095890410959\n",
      "87.42762557077626\n",
      "86.43310502283106\n",
      "87.43584474885846\n",
      "87.27191780821917\n",
      "85.27739726027397\n",
      "87.52739726027397\n",
      "87.19680365296804\n",
      " 87.0027397260274 damage: 0.11915 \t 0.58817\n",
      "Sperman:        date      \n",
      "-----------------\n",
      "82.01095890410959\n",
      "82.03013698630137\n",
      "83.84155251141551\n",
      "82.94680365296804\n",
      "83.34429223744291\n",
      "84.51643835616439\n",
      "85.52191780821917\n",
      " 85.3634703196347\n",
      " 84.2554794520548\n",
      "84.51095890410959\n",
      "86.52191780821917\n",
      "84.44406392694064\n",
      "84.69680365296804\n",
      " 87.0027397260274\n",
      "86.01095890410959\n",
      "87.42762557077626\n",
      "86.43310502283106\n",
      "87.43584474885846\n",
      "87.27191780821917\n",
      "85.27739726027397\n",
      "87.52739726027397\n",
      "87.19680365296804\n",
      " 87.0027397260274 damage: 0.11915 \t 0.58817\n",
      "Sperman:        date      \n",
      "-----------------\n",
      "82.01095890410959\n",
      "82.03013698630137\n",
      "83.84155251141551\n",
      "82.94680365296804\n",
      "83.34429223744291\n",
      "84.51643835616439\n",
      "85.52191780821917\n",
      " 85.3634703196347\n",
      " 84.2554794520548\n",
      "84.51095890410959\n",
      "86.52191780821917\n",
      "84.44406392694064\n",
      "84.69680365296804\n",
      " 87.0027397260274\n",
      "86.01095890410959\n",
      "87.42762557077626\n",
      "86.43310502283106\n",
      "87.43584474885846\n",
      "87.27191780821917\n",
      "85.27739726027397\n",
      "87.52739726027397\n",
      "87.19680365296804\n",
      " 87.0027397260274 damage: 0.11915 \t 0.58817\n"
     ]
    }
   ],
   "source": [
    "# student work here\n",
    "notes = ['erosion', 'blowby', 'damage']\n",
    "for i in notes:\n",
    "    pearson, pval = stats.pearsonr(data['date'], data[i])\n",
    "    print('Pearson: %5s %5s: %4.5f \\t %4.5f' % (data['date'], i, pearson,pval))\n",
    "for h in notes: \n",
    "    spearman, pval = stats.spearmanr(data['date'], data[i])\n",
    "    print('Sperman: %5s %5s: %4.5f \\t %4.5f' % (data['date'], i, spearman,pval))"
   ]
  },
  {
   "cell_type": "markdown",
   "id": "520e8cc2",
   "metadata": {},
   "source": [
    "### Exercise 8\n",
    "\n",
    "Are any of the correlations significant? "
   ]
  },
  {
   "cell_type": "markdown",
   "id": "2c2729e0",
   "metadata": {},
   "source": [
    "*student answer here*\n",
    "No"
   ]
  },
  {
   "cell_type": "markdown",
   "id": "56c4b056",
   "metadata": {},
   "source": [
    "### Exercise 9\n",
    "\n",
    "Plot temperature and the three different notes that the mechanics have made upon inspection after each race ('erosion', 'blowby' and 'damage'). Plot each such that the viewer can immediate differentiate each note."
   ]
  },
  {
   "cell_type": "code",
   "execution_count": 19,
   "id": "7a88d928",
   "metadata": {},
   "outputs": [
    {
     "data": {
      "text/plain": [
       "<matplotlib.legend.Legend at 0x7fb7d35dcf10>"
      ]
     },
     "execution_count": 19,
     "metadata": {},
     "output_type": "execute_result"
    },
    {
     "data": {
      "image/png": "[encoded data removed]",
      "text/plain": [
       "<Figure size 900x600 with 1 Axes>"
      ]
     },
     "metadata": {
      "needs_background": "light"
     },
     "output_type": "display_data"
    }
   ],
   "source": [
    "# student work here\n",
    "j = data['temp']\n",
    "plt.scatter(y, j, color='green', label='Erosion')\n",
    "plt.scatter(z, j, color='blue', label='Blowby')\n",
    "plt.scatter(t, j, color='red', label='Damage')\n",
    "plt.ylabel('Temperature')\n",
    "plt.legend()"
   ]
  },
  {
   "cell_type": "markdown",
   "id": "0d87f1c6",
   "metadata": {},
   "source": [
    "### Exercise 10\n",
    "\n",
    "Using the pearson and spearman rankings for these three notes, is there a correlation with temperature?\n",
    "Print using a for loop and format strings to make a neat and legible table."
   ]
  },
  {
   "cell_type": "code",
   "execution_count": 38,
   "id": "92cbd5a7",
   "metadata": {},
   "outputs": [
    {
     "name": "stdout",
     "output_type": "stream",
     "text": [
      "Pearson:        date      \n",
      "-----------------\n",
      "82.01095890410959\n",
      "82.03013698630137\n",
      "83.84155251141551\n",
      "82.94680365296804\n",
      "83.34429223744291\n",
      "84.51643835616439\n",
      "85.52191780821917\n",
      " 85.3634703196347\n",
      " 84.2554794520548\n",
      "84.51095890410959\n",
      "86.52191780821917\n",
      "84.44406392694064\n",
      "84.69680365296804\n",
      " 87.0027397260274\n",
      "86.01095890410959\n",
      "87.42762557077626\n",
      "86.43310502283106\n",
      "87.43584474885846\n",
      "87.27191780821917\n",
      "85.27739726027397\n",
      "87.52739726027397\n",
      "87.19680365296804\n",
      " 87.0027397260274 erosion: -0.71730 \t 0.00012\n",
      "Pearson:        date      \n",
      "-----------------\n",
      "82.01095890410959\n",
      "82.03013698630137\n",
      "83.84155251141551\n",
      "82.94680365296804\n",
      "83.34429223744291\n",
      "84.51643835616439\n",
      "85.52191780821917\n",
      " 85.3634703196347\n",
      " 84.2554794520548\n",
      "84.51095890410959\n",
      "86.52191780821917\n",
      "84.44406392694064\n",
      "84.69680365296804\n",
      " 87.0027397260274\n",
      "86.01095890410959\n",
      "87.42762557077626\n",
      "86.43310502283106\n",
      "87.43584474885846\n",
      "87.27191780821917\n",
      "85.27739726027397\n",
      "87.52739726027397\n",
      "87.19680365296804\n",
      " 87.0027397260274 blowby: -0.24884 \t 0.25223\n",
      "Pearson:        date      \n",
      "-----------------\n",
      "82.01095890410959\n",
      "82.03013698630137\n",
      "83.84155251141551\n",
      "82.94680365296804\n",
      "83.34429223744291\n",
      "84.51643835616439\n",
      "85.52191780821917\n",
      " 85.3634703196347\n",
      " 84.2554794520548\n",
      "84.51095890410959\n",
      "86.52191780821917\n",
      "84.44406392694064\n",
      "84.69680365296804\n",
      " 87.0027397260274\n",
      "86.01095890410959\n",
      "87.42762557077626\n",
      "86.43310502283106\n",
      "87.43584474885846\n",
      "87.27191780821917\n",
      "85.27739726027397\n",
      "87.52739726027397\n",
      "87.19680365296804\n",
      " 87.0027397260274 damage: -0.64159 \t 0.00097\n",
      "Sperman:        date      \n",
      "-----------------\n",
      "82.01095890410959\n",
      "82.03013698630137\n",
      "83.84155251141551\n",
      "82.94680365296804\n",
      "83.34429223744291\n",
      "84.51643835616439\n",
      "85.52191780821917\n",
      " 85.3634703196347\n",
      " 84.2554794520548\n",
      "84.51095890410959\n",
      "86.52191780821917\n",
      "84.44406392694064\n",
      "84.69680365296804\n",
      " 87.0027397260274\n",
      "86.01095890410959\n",
      "87.42762557077626\n",
      "86.43310502283106\n",
      "87.43584474885846\n",
      "87.27191780821917\n",
      "85.27739726027397\n",
      "87.52739726027397\n",
      "87.19680365296804\n",
      " 87.0027397260274 damage: -0.45538 \t 0.02900\n",
      "Sperman:        date      \n",
      "-----------------\n",
      "82.01095890410959\n",
      "82.03013698630137\n",
      "83.84155251141551\n",
      "82.94680365296804\n",
      "83.34429223744291\n",
      "84.51643835616439\n",
      "85.52191780821917\n",
      " 85.3634703196347\n",
      " 84.2554794520548\n",
      "84.51095890410959\n",
      "86.52191780821917\n",
      "84.44406392694064\n",
      "84.69680365296804\n",
      " 87.0027397260274\n",
      "86.01095890410959\n",
      "87.42762557077626\n",
      "86.43310502283106\n",
      "87.43584474885846\n",
      "87.27191780821917\n",
      "85.27739726027397\n",
      "87.52739726027397\n",
      "87.19680365296804\n",
      " 87.0027397260274 damage: -0.45538 \t 0.02900\n",
      "Sperman:        date      \n",
      "-----------------\n",
      "82.01095890410959\n",
      "82.03013698630137\n",
      "83.84155251141551\n",
      "82.94680365296804\n",
      "83.34429223744291\n",
      "84.51643835616439\n",
      "85.52191780821917\n",
      " 85.3634703196347\n",
      " 84.2554794520548\n",
      "84.51095890410959\n",
      "86.52191780821917\n",
      "84.44406392694064\n",
      "84.69680365296804\n",
      " 87.0027397260274\n",
      "86.01095890410959\n",
      "87.42762557077626\n",
      "86.43310502283106\n",
      "87.43584474885846\n",
      "87.27191780821917\n",
      "85.27739726027397\n",
      "87.52739726027397\n",
      "87.19680365296804\n",
      " 87.0027397260274 damage: -0.45538 \t 0.02900\n"
     ]
    }
   ],
   "source": [
    "# student work here\n",
    "for i in notes:\n",
    "    pearson, pval = stats.pearsonr(data['temp'], data[i])\n",
    "    print('Pearson: %5s %5s: %4.5f \\t %4.5f' % (data['date'], i, pearson,pval))\n",
    "for h in notes: \n",
    "    spearman, pval = stats.spearmanr(data['temp'], data[i])\n",
    "    print('Sperman: %5s %5s: %4.5f \\t %4.5f' % (data['date'], i, spearman,pval))"
   ]
  },
  {
   "cell_type": "markdown",
   "id": "0cf71ab0",
   "metadata": {},
   "source": [
    "### Exercise 11\n",
    "\n",
    "Are any of the correlations between mechanic's notes and temperature significant? "
   ]
  },
  {
   "cell_type": "markdown",
   "id": "147d89b9",
   "metadata": {},
   "source": [
    "*student answer here*\n",
    "Yes"
   ]
  },
  {
   "cell_type": "markdown",
   "id": "23abd6ee",
   "metadata": {},
   "source": [
    "### Exercise 12\n",
    "\n",
    "Plot temperature as a function of race date. Indicate if the carburator failed or not in the plot (use color or marker).\n",
    "\n",
    "Is there a clear pattern? Yes"
   ]
  },
  {
   "cell_type": "code",
   "execution_count": 39,
   "id": "1681f187",
   "metadata": {},
   "outputs": [
    {
     "data": {
      "text/plain": [
       "<matplotlib.legend.Legend at 0x7fb7d26213a0>"
      ]
     },
     "execution_count": 39,
     "metadata": {},
     "output_type": "execute_result"
    },
    {
     "data": {
      "image/png": "[encoded data removed]",
      "text/plain": [
       "<Figure size 900x600 with 1 Axes>"
      ]
     },
     "metadata": {
      "needs_background": "light"
     },
     "output_type": "display_data"
    }
   ],
   "source": [
    "# student work here\n",
    "failure = data['fail']\n",
    "\n",
    "plt.plot(x[np.where(failure==0)], j[np.where(failure==0)],'bo', label='No Fail')\n",
    "plt.plot(x[np.where(failure>0)], j[np.where(failure>0)],'ro', label='Failure')\n",
    "plt.xlabel('Date')\n",
    "plt.ylabel('Temperature')\n",
    "plt.legend()"
   ]
  },
  {
   "cell_type": "markdown",
   "id": "693557df",
   "metadata": {},
   "source": [
    "### Exercise 13\n",
    "\n",
    "It is unusually cold on the team's next race (30F) and the question to the pit crew is if the new carburator will be reliable. \n",
    "Based on what you have seen so far, what is your recommendation? Race or not? "
   ]
  },
  {
   "cell_type": "markdown",
   "id": "4323bdd9",
   "metadata": {},
   "source": [
    "*student answer here*\n",
    "Based on what I have seen so far, racing does not seem like a wise decision"
   ]
  },
  {
   "cell_type": "markdown",
   "id": "5f53ac1f",
   "metadata": {},
   "source": [
    "### Exercise 14\n",
    "\n",
    "Plot temperature and failure ('fail' column in data, failure = 1) against each other and evaluate their correlation using a Pearson and spearman ranking. Is there a significant correlation between race temperature and failure?"
   ]
  },
  {
   "cell_type": "code",
   "execution_count": 41,
   "id": "d16d94a9",
   "metadata": {},
   "outputs": [
    {
     "data": {
      "text/plain": [
       "Text(0, 0.5, 'Temp')"
      ]
     },
     "execution_count": 41,
     "metadata": {},
     "output_type": "execute_result"
    },
    {
     "data": {
      "image/png": "[encoded data removed]",
      "text/plain": [
       "<Figure size 900x600 with 1 Axes>"
      ]
     },
     "metadata": {
      "needs_background": "light"
     },
     "output_type": "display_data"
    }
   ],
   "source": [
    "# student work here\n",
    "plt.scatter(failure, j)\n",
    "plt.xlabel('Failures')\n",
    "plt.ylabel('Temp')"
   ]
  },
  {
   "cell_type": "markdown",
   "id": "e1c5f243",
   "metadata": {},
   "source": [
    "### Exercise 15\n",
    "\n",
    "Evaluating the above plot and correlation statistics in Exercise 14, would you recommend racing with an air temperature of 30F? "
   ]
  },
  {
   "cell_type": "markdown",
   "id": "280fb6c0",
   "metadata": {},
   "source": [
    "*student answer here*\n",
    "No! Based on what I have seen, when racing at temperatures below 65F the reliablity of the carbuator decreases dramatically"
   ]
  },
  {
   "cell_type": "markdown",
   "id": "a46b6e8f",
   "metadata": {},
   "source": [
    "<hr>"
   ]
  },
  {
   "cell_type": "code",
   "execution_count": null,
   "id": "70602e4e",
   "metadata": {},
   "outputs": [],
   "source": []
  }
 ],
 "metadata": {
  "kernelspec": {
   "display_name": "Python 3 (ipykernel)",
   "language": "python",
   "name": "python3"
  },
  "language_info": {
   "codemirror_mode": {
    "name": "ipython",
    "version": 3
   },
   "file_extension": ".py",
   "mimetype": "text/x-python",
   "name": "python",
   "nbconvert_exporter": "python",
   "pygments_lexer": "ipython3",
   "version": "3.9.12"
  }
 },
 "nbformat": 4,
 "nbformat_minor": 5
}
