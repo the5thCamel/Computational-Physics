{
 "cells": [
  {
   "cell_type": "markdown",
   "id": "ae27baf9",
   "metadata": {},
   "source": [
    "# Assignment 14 - NASA Global Atmosphere Data\n",
    "\n",
    "\n",
    "## Authors\n",
    "B.W. Holwerda\n",
    "\n",
    "## Learning Goals\n",
    "* plotting for different audiences\n",
    "* visual storytelling\n",
    "* reinforcement of narrative vs misinformation\n",
    "\n",
    "## Keywords\n",
    "python, syntax, jupyter notebook, matplotlib, scatter, atmospheric data \n",
    "\n",
    "## Companion Content\n",
    "\n",
    "\n",
    "## Summary\n",
    "\n",
    "Climate Change is the challenge of the 21st century. How the data on this global issue is shown is critical in framing and conveyance of a sense of urgency. \n",
    "\n",
    "<hr>\n",
    "\n"
   ]
  },
  {
   "cell_type": "markdown",
   "id": "1eb31129",
   "metadata": {},
   "source": [
    "\n",
    "## Student Name and ID:\n",
    "\n",
    "\n",
    "\n",
    "## Date:\n",
    "\n",
    "<hr>"
   ]
  },
  {
   "cell_type": "markdown",
   "id": "0b0d6687",
   "metadata": {},
   "source": [
    "# NASA Global Atmospheric Measurements\n",
    "\n",
    "Data originally from:\n",
    "\n",
    "https://climate.nasa.gov/vital-signs/carbon-dioxide/\n",
    "\n",
    "Data in the directory Global_NASA_Data\n",
    "\n",
    "CO2.txt              - CO2 data\n",
    "GMSL.txt             - Global Mean Sea Level (GMSL)\n",
    "NASA-Global-Temp.txt - Mean Global temperatures\n",
    "GSEM.txt             - Global Sea Energy \n"
   ]
  },
  {
   "cell_type": "code",
   "execution_count": 1,
   "id": "be0913d4",
   "metadata": {},
   "outputs": [],
   "source": [
    "#Do imports\n",
    "\n",
    "import numpy as np\n",
    "import matplotlib.pyplot as plt\n",
    "\n",
    "%matplotlib inline \n",
    "from matplotlib import rcParams\n",
    "rcParams[\"savefig.dpi\"] = 150\n",
    "rcParams[\"figure.dpi\"] = 150\n",
    "rcParams[\"font.size\"] = 15\n",
    "\n",
    "# loading the GAMA data-set\n",
    "import matplotlib.pyplot as plt\n",
    "\n",
    "import numpy as np\n"
   ]
  },
  {
   "cell_type": "markdown",
   "id": "5b58d92b",
   "metadata": {},
   "source": [
    "### Exercise 1 - CO2 \n",
    "\n",
    "The first exercise is on the CO2 data from the Mauna Kea measurement station. \n",
    "Read in the data of the CO2 file and plot the CO2 content as a function of year."
   ]
  },
  {
   "cell_type": "code",
   "execution_count": 1,
   "id": "71f2a41e",
   "metadata": {},
   "outputs": [],
   "source": [
    "# student work here\n"
   ]
  },
  {
   "cell_type": "markdown",
   "id": "2d301a69",
   "metadata": {},
   "source": [
    "### Exercise 2 - CO2 \n",
    "\n",
    "What is the general trend line of CO2 content of the atmosphere?"
   ]
  },
  {
   "cell_type": "markdown",
   "id": "5de0d065",
   "metadata": {},
   "source": [
    "*student answer here*"
   ]
  },
  {
   "cell_type": "markdown",
   "id": "b83459b4",
   "metadata": {},
   "source": [
    "### Exercise 3 - CO2 \n",
    "\n",
    "Can you interpret the variance on the shorter timescale? Can you think of a reason why this regular short timescale variance is in this data?"
   ]
  },
  {
   "cell_type": "markdown",
   "id": "c9533ec0",
   "metadata": {},
   "source": [
    "*student answer here*"
   ]
  },
  {
   "cell_type": "markdown",
   "id": "0145c0a2",
   "metadata": {},
   "source": [
    "### Exercise 4 - Change in Global Temperature \n",
    "\n",
    "Load in the NASA global temperature measurement data and plot temperature as a function of year. This is reported as deviation from a mean global temperature in *Celcius*. There is year-to-year data and smoothed with 5-year window. Plot both."
   ]
  },
  {
   "cell_type": "code",
   "execution_count": 2,
   "id": "b10706fc",
   "metadata": {},
   "outputs": [],
   "source": [
    "# student work here\n"
   ]
  },
  {
   "cell_type": "markdown",
   "id": "e1b21824",
   "metadata": {},
   "source": [
    "### Exercise 5 - Change in Global Temperature \n",
    "\n",
    "Why does the data start in 1875? Why would global temperature measurements extend further back than CO2 measurements?"
   ]
  },
  {
   "cell_type": "markdown",
   "id": "438ce69e",
   "metadata": {},
   "source": [
    "*student answer here*"
   ]
  },
  {
   "cell_type": "markdown",
   "id": "9a062c46",
   "metadata": {},
   "source": [
    "### Exercise 6 - Change in Global Temperature and CO2\n",
    "\n",
    "Plot both the CO2 and change in temperature ($\\Delta T$) on the same x and y-axis plots (what happens if you call both datasets in two plt.plot commands)?"
   ]
  },
  {
   "cell_type": "code",
   "execution_count": 3,
   "id": "db8166ec",
   "metadata": {},
   "outputs": [],
   "source": [
    "# student work here\n"
   ]
  },
  {
   "cell_type": "markdown",
   "id": "f9142d91",
   "metadata": {},
   "source": [
    "### Exercise 7 - Change in Global Temperature and CO2\n",
    "\n",
    "Evaluate what happens if both the change in temperature and the CO2 of the atmospere are plotted on the same scale as the CO2 (0-500 ppm). What do you notice? Does the change in temperature seem noticeable or similar to the rise in CO2?"
   ]
  },
  {
   "cell_type": "markdown",
   "id": "85b16a14",
   "metadata": {},
   "source": [
    "*student answer here*"
   ]
  },
  {
   "cell_type": "markdown",
   "id": "f0dbbc5f",
   "metadata": {},
   "source": [
    "### Exercise 8 - Change in Global Temperature and CO2\n",
    "\n",
    "A better way to compare the two measurements is to give them their own axes. In assignment 6, we used two separate ax sets and twinned the x-axes of both. This allows you to plot completely different scales on the y-axes. Plot CO2 and temperature deviation this way with separate axes. Make sure you clarify which line is CO2 and which temperature"
   ]
  },
  {
   "cell_type": "code",
   "execution_count": 4,
   "id": "4a11caf1",
   "metadata": {},
   "outputs": [],
   "source": [
    "# student work here\n"
   ]
  },
  {
   "cell_type": "markdown",
   "id": "0331bd46",
   "metadata": {},
   "source": [
    "### Exercise 9 - Change in Global Temperature and CO2\n",
    "\n",
    "Do the two measurements look correlated now? "
   ]
  },
  {
   "cell_type": "markdown",
   "id": "55404896",
   "metadata": {},
   "source": [
    "*student answer here*"
   ]
  },
  {
   "cell_type": "markdown",
   "id": "37f31df6",
   "metadata": {},
   "source": [
    "### Exercise 10 - Change in Global Temperature and Units\n",
    "\n",
    "A change of one degree Celcius is 9/5th change in Fahrenheid. Make the change in temperature in both Celcius and Fahrenheid using the two axes technique. Do not show CO2 "
   ]
  },
  {
   "cell_type": "code",
   "execution_count": 5,
   "id": "437a411d",
   "metadata": {},
   "outputs": [],
   "source": [
    "# student work here\n"
   ]
  },
  {
   "cell_type": "markdown",
   "id": "1d0458d3",
   "metadata": {},
   "source": [
    "### Exercise 11 - Change in Global Temperature and Units\n",
    "\n",
    "Why would you plot both Fahrenheid and Celcius on a plot like this? "
   ]
  },
  {
   "cell_type": "markdown",
   "id": "8d0fef33",
   "metadata": {},
   "source": [
    "*student answer here*"
   ]
  },
  {
   "cell_type": "markdown",
   "id": "e61f56da",
   "metadata": {},
   "source": [
    "### Exercise 12 - Change in Ocean Sea Level\n",
    "\n",
    "Load the Global Mean Sealevel data from NASA and plot the GMSL measurements (column number 6 or 9 with a calibration applied) and a smoothed version. GMSL GIA-corrected (Global Isostatic Adjustment (GIA) applied) and the smoothed version."
   ]
  },
  {
   "cell_type": "code",
   "execution_count": 6,
   "id": "10775672",
   "metadata": {},
   "outputs": [],
   "source": [
    "# student work here\n"
   ]
  },
  {
   "cell_type": "markdown",
   "id": "755fb45e",
   "metadata": {},
   "source": [
    "### Exercise 12 - Change in Ocean Sea Level\n",
    "\n",
    "Why do you think does the data only go back to 1995? "
   ]
  },
  {
   "cell_type": "markdown",
   "id": "a5ed3219",
   "metadata": {},
   "source": [
    "*student answer here*"
   ]
  },
  {
   "cell_type": "markdown",
   "id": "916cc62e",
   "metadata": {},
   "source": [
    "### Exercise 13 - Change in Ocean Sea Level\n",
    "\n",
    "Add the global mean from sea basin measurements (effectively harbours) and plot it and the above satellite data together. "
   ]
  },
  {
   "cell_type": "code",
   "execution_count": 7,
   "id": "a8016830",
   "metadata": {},
   "outputs": [],
   "source": [
    "# student work here\n"
   ]
  },
  {
   "cell_type": "markdown",
   "id": "303d316b",
   "metadata": {},
   "source": [
    "### Exercise 14 - Change in Ocean Sea Level\n",
    "\n",
    "How do these two agree? In case of discrepancy, why would there be one?"
   ]
  },
  {
   "cell_type": "markdown",
   "id": "6ee99350",
   "metadata": {},
   "source": [
    "*student answer here*"
   ]
  },
  {
   "cell_type": "markdown",
   "id": "5145e6eb",
   "metadata": {},
   "source": [
    "### BONUS Exercise 15 - Plots of temperature changes\n",
    "\n",
    "Make a series of plots of the temperature change over time. It will be the same data we used in exercise 4. \n",
    "\n",
    "* (A) a plot of black data points \n",
    "* (B) the same plot using plt.scatter color-coding the points with the deviation of the temperature\n",
    "* (C) The same plot but using a *diverging color map* see https://matplotlib.org/stable/tutorials/colors/colormaps.html\n",
    "* (D) Same as (C) but vmin and vmax specified to make sure the middle of the diverging color map is at $\\Delta T = 0$, the points are bigger and lined with a black line (edgecolor='k').\n",
    "* (E) Same as (D) but now with both Fahrenheid and Celcius axes (see above).\n",
    "\n",
    "For each plot, note what would be a good audience for each plot."
   ]
  },
  {
   "cell_type": "markdown",
   "id": "78908700",
   "metadata": {},
   "source": [
    "### 15 (A) a plot of black data points "
   ]
  },
  {
   "cell_type": "code",
   "execution_count": 8,
   "id": "87121946",
   "metadata": {},
   "outputs": [],
   "source": [
    "# student work here\n"
   ]
  },
  {
   "cell_type": "markdown",
   "id": "24c24b40",
   "metadata": {},
   "source": [
    "### 15 (B) the same plot using plt.scatter color-coding the points with the deviation of the temperature\n"
   ]
  },
  {
   "cell_type": "code",
   "execution_count": 9,
   "id": "7285ff3c",
   "metadata": {},
   "outputs": [],
   "source": [
    "# student work here\n"
   ]
  },
  {
   "cell_type": "markdown",
   "id": "430d095e",
   "metadata": {},
   "source": [
    "### 15 (C) The same plot but using a *diverging color map*"
   ]
  },
  {
   "cell_type": "code",
   "execution_count": 10,
   "id": "334dcff5",
   "metadata": {},
   "outputs": [],
   "source": [
    "# student work here\n"
   ]
  },
  {
   "cell_type": "markdown",
   "id": "bb147df7",
   "metadata": {},
   "source": [
    "### 15 (D) Same as (C) but vmin and vmax specified so $\\Delta T = 0$ is in the middle\n",
    "\n",
    "to make sure the middle of the diverging color map is at $\\Delta T = 0$, the points are bigger and lined with a black line (edgecolor='k').\n"
   ]
  },
  {
   "cell_type": "code",
   "execution_count": 11,
   "id": "c77b722a",
   "metadata": {},
   "outputs": [],
   "source": [
    "# student work here\n"
   ]
  },
  {
   "cell_type": "markdown",
   "id": "f9bb0f14",
   "metadata": {},
   "source": [
    "### 15 (E) Same as (D) but now with both Fahrenheid and Celcius axes (see above).\n"
   ]
  },
  {
   "cell_type": "code",
   "execution_count": 12,
   "id": "10e6c64b",
   "metadata": {},
   "outputs": [],
   "source": [
    "# student work here\n"
   ]
  },
  {
   "cell_type": "markdown",
   "id": "9363f172",
   "metadata": {},
   "source": [
    "### Conversion to other units\n",
    "\n",
    "can you convert the change in air temperature into other units? What kind of units? "
   ]
  },
  {
   "cell_type": "code",
   "execution_count": 13,
   "id": "12b5d94e",
   "metadata": {},
   "outputs": [],
   "source": [
    "# student work here\n"
   ]
  },
  {
   "cell_type": "code",
   "execution_count": null,
   "id": "5f391fb6",
   "metadata": {},
   "outputs": [],
   "source": []
  },
  {
   "cell_type": "code",
   "execution_count": null,
   "id": "ba66cce8",
   "metadata": {},
   "outputs": [],
   "source": []
  }
 ],
 "metadata": {
  "kernelspec": {
   "display_name": "Python 3 (ipykernel)",
   "language": "python",
   "name": "python3"
  },
  "language_info": {
   "codemirror_mode": {
    "name": "ipython",
    "version": 3
   },
   "file_extension": ".py",
   "mimetype": "text/x-python",
   "name": "python",
   "nbconvert_exporter": "python",
   "pygments_lexer": "ipython3",
   "version": "3.9.12"
  }
 },
 "nbformat": 4,
 "nbformat_minor": 5
}
