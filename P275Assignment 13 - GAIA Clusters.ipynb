{
 "cells": [
  {
   "cell_type": "markdown",
   "metadata": {},
   "source": [
    "# GAIA Star Cluster - Plotting Information\n",
    "\n",
    "## Authors\n",
    "A. Crocker and B.W. Holwerda\n",
    "\n",
    "## Learning Goals\n",
    "* plot multiple values in a single plot.\n",
    "* visualize all we know about a sample.\n",
    "* compare to other data\n",
    "* compare to models\n",
    "* interpolating between models\n",
    "\n",
    "* The Herzsprung-Russell Diagram of stars\n",
    "\n",
    "## Keywords\n",
    "\n",
    "color-magnitude diagram, stellar isochrones, \n",
    "\n",
    "\n",
    "## Companion Content\n",
    "\n",
    "\n",
    "## Summary\n",
    "\n",
    "The nearest stars to our Sun are of great interest to astronomy as a science and the imagination of everyone. \n",
    "\n",
    "<hr>"
   ]
  },
  {
   "cell_type": "markdown",
   "metadata": {
    "id": "DcjHL4Bk3nlS"
   },
   "source": [
    "# Gaia project: comparing cluster color-magnitude diagrams\n",
    "\n",
    "In this project, you'll use Gaia astrometric and photometric data on two stellar clusters to make color-magnitude diagrams and compare them. They'll mostly look the same, but will have some subtle differences because the two clusters are different ages!\n",
    "\n",
    "Data biography: These data are all from data release 2 for the European Space Agency's Gaia mission. Identifying the Gaia sources belonging to each cluster was determined by [Gaia Collaboration, Babisaux et al. 2018](https://www.aanda.org/articles/aa/abs/2018/08/aa32843-18/aa32843-18.html), specifically, these data come from their Table A1a. However, they only published astrometric data in that Table, not the associated photometry! To also access the photometry, I used the Gaia IDs of all the sources for these two clusters and obtained all the Gaia data using this [search engine](https://gaia.ari.uni-heidelberg.de/singlesource.html) from the University of Heidelberg.\n",
    "\n",
    "## Importing data\n",
    "Our first step is to read in the two files on our two clusters: the alpha Perseus cluster (\"alphaPer.csv\") and Hyades (\"hyades.csv\"). Both are in standard comma-separated-variables format as indicated by the \".csv\" extension. \n",
    "\n",
    "The first cell below imports the ascii sub-sub-package so we have all of its functions available to us in this notebook. \n",
    "- astropy is a Python package built for handling astronomical data. \n",
    "- astropy.io is a Python sub-package that deals with i = input and o = output of data.\n",
    "- astropy.io.ascii is a Python sub-sub-package  that deals with the input and output of text data. We'll use its 'read' function to read our data into an astropy Table."
   ]
  },
  {
   "cell_type": "code",
   "execution_count": 2,
   "metadata": {
    "id": "ITZ_bOTn3nlU"
   },
   "outputs": [],
   "source": [
    "# Run this cell to import (i.e. make available in this notebook) \n",
    "# the ascii subpackage of astropy.io:\n",
    "from astropy.io import ascii\n",
    "\n",
    "# Import matplotlib\n",
    "import matplotlib.pyplot as plt\n",
    "%matplotlib inline \n",
    "from matplotlib import rcParams\n",
    "rcParams[\"savefig.dpi\"] = 150\n",
    "rcParams[\"figure.dpi\"] = 150\n",
    "rcParams[\"font.size\"] = 15\n",
    "\n"
   ]
  },
  {
   "cell_type": "code",
   "execution_count": 3,
   "metadata": {
    "id": "p77x-tzJ3nlc"
   },
   "outputs": [],
   "source": [
    "ap_data = ascii.read(\"alphaPer.csv\") \n",
    "hyd_data = ascii.read(\"hyades.csv\")"
   ]
  },
  {
   "cell_type": "markdown",
   "metadata": {
    "id": "1-bYz1bZ3nlf"
   },
   "source": [
    "### What data do we have exactly?\n",
    "\n",
    "I wrote above that I included *all* the Gaia data. What does that consist of? We can see by asking one of the astropy Tables we've just made what the titles of its columns are:"
   ]
  },
  {
   "cell_type": "code",
   "execution_count": 4,
   "metadata": {
    "id": "Xi_KOTDg3nlg"
   },
   "outputs": [
    {
     "name": "stdout",
     "output_type": "stream",
     "text": [
      "<Table length=740>\n",
      "              name                dtype     class     n_bad\n",
      "-------------------------------- ------- ------------ -----\n",
      "                  input_position   int64       Column     0\n",
      "                        distance   int64 MaskedColumn   740\n",
      "                       source_id   int64       Column     0\n",
      "                     designation   str27       Column     0\n",
      "                              ra float64       Column     0\n",
      "                             dec float64       Column     0\n",
      "                               l float64       Column     0\n",
      "                               b float64       Column     0\n",
      "                         ecl_lon float64       Column     0\n",
      "                         ecl_lat float64       Column     0\n",
      "                        parallax float64       Column     0\n",
      "                            pmra float64       Column     0\n",
      "                           pmdec float64       Column     0\n",
      "                 phot_g_mean_mag float64       Column     0\n",
      "                phot_bp_mean_mag float64 MaskedColumn    10\n",
      "                phot_rp_mean_mag float64 MaskedColumn    10\n",
      "                        ra_error float64       Column     0\n",
      "                       dec_error float64       Column     0\n",
      "                  parallax_error float64       Column     0\n",
      "                      pmra_error float64       Column     0\n",
      "                     pmdec_error float64       Column     0\n",
      "            a_g_percentile_lower float64 MaskedColumn   458\n",
      "            a_g_percentile_upper float64 MaskedColumn   458\n",
      "                         a_g_val float64 MaskedColumn   458\n",
      "             astrometric_chi2_al float64       Column     0\n",
      "        astrometric_excess_noise float64       Column     0\n",
      "    astrometric_excess_noise_sig float64       Column     0\n",
      "              astrometric_gof_al float64       Column     0\n",
      "astrometric_matched_observations   int64       Column     0\n",
      "        astrometric_n_bad_obs_al   int64       Column     0\n",
      "       astrometric_n_good_obs_al   int64       Column     0\n",
      "            astrometric_n_obs_ac   int64       Column     0\n",
      "            astrometric_n_obs_al   int64       Column     0\n",
      "       astrometric_params_solved   int64       Column     0\n",
      "        astrometric_primary_flag    str5       Column     0\n",
      "       astrometric_pseudo_colour float64       Column     0\n",
      " astrometric_pseudo_colour_error float64       Column     0\n",
      "         astrometric_sigma5d_max float64       Column     0\n",
      "           astrometric_weight_al float64       Column     0\n",
      "                            bp_g float64 MaskedColumn    10\n",
      "                           bp_rp float64 MaskedColumn    10\n",
      "               dec_parallax_corr float64       Column     0\n",
      "                  dec_pmdec_corr float64       Column     0\n",
      "                   dec_pmra_corr float64       Column     0\n",
      "               duplicated_source    str5       Column     0\n",
      "    e_bp_min_rp_percentile_lower float64 MaskedColumn   458\n",
      "    e_bp_min_rp_percentile_upper float64 MaskedColumn   458\n",
      "                 e_bp_min_rp_val float64 MaskedColumn   458\n",
      "                     flame_flags   int64 MaskedColumn   541\n",
      "       frame_rotator_object_type   int64       Column     0\n",
      "                            g_rp float64 MaskedColumn    10\n",
      "            lum_percentile_lower float64 MaskedColumn   541\n",
      "            lum_percentile_upper float64 MaskedColumn   541\n",
      "                         lum_val float64 MaskedColumn   541\n",
      "            matched_observations   int64       Column     0\n",
      "            mean_varpi_factor_al float64       Column     0\n",
      "             parallax_over_error float64       Column     0\n",
      "             parallax_pmdec_corr float64       Column     0\n",
      "              parallax_pmra_corr float64       Column     0\n",
      "               phot_bp_mean_flux float64 MaskedColumn    10\n",
      "         phot_bp_mean_flux_error float64 MaskedColumn    10\n",
      "    phot_bp_mean_flux_over_error float64 MaskedColumn    10\n",
      "                   phot_bp_n_obs   int64       Column     0\n",
      "        phot_bp_rp_excess_factor float64 MaskedColumn    10\n",
      "                phot_g_mean_flux float64       Column     0\n",
      "          phot_g_mean_flux_error float64       Column     0\n",
      "     phot_g_mean_flux_over_error float64       Column     0\n",
      "                    phot_g_n_obs   int64       Column     0\n",
      "                  phot_proc_mode   int64       Column     0\n",
      "               phot_rp_mean_flux float64 MaskedColumn    10\n",
      "         phot_rp_mean_flux_error float64 MaskedColumn    10\n",
      "    phot_rp_mean_flux_over_error float64 MaskedColumn    10\n",
      "                   phot_rp_n_obs   int64       Column     0\n",
      "              phot_variable_flag   str13       Column     0\n",
      "                 pmra_pmdec_corr float64       Column     0\n",
      "                     priam_flags   int64 MaskedColumn   250\n",
      "                     ra_dec_corr float64       Column     0\n",
      "                 radial_velocity float64 MaskedColumn   641\n",
      "           radial_velocity_error float64 MaskedColumn   641\n",
      "         radius_percentile_lower float64 MaskedColumn   541\n",
      "         radius_percentile_upper float64 MaskedColumn   541\n",
      "                      radius_val float64 MaskedColumn   541\n",
      "                    random_index   int64       Column     0\n",
      "                ra_parallax_corr float64       Column     0\n",
      "                   ra_pmdec_corr float64       Column     0\n",
      "                    ra_pmra_corr float64       Column     0\n",
      "                       ref_epoch float64       Column     0\n",
      "                  rv_nb_transits   int64       Column     0\n",
      "                rv_template_fe_h float64 MaskedColumn   641\n",
      "                rv_template_logg float64 MaskedColumn   641\n",
      "                rv_template_teff float64 MaskedColumn   641\n",
      "                     solution_id   int64       Column     0\n",
      "           teff_percentile_lower float64 MaskedColumn   250\n",
      "           teff_percentile_upper float64 MaskedColumn   250\n",
      "                        teff_val float64 MaskedColumn   250\n",
      "         visibility_periods_used   int64       Column     0\n",
      "                       other_ids   str27 MaskedColumn    18\n"
     ]
    }
   ],
   "source": [
    "ap_data.info()"
   ]
  },
  {
   "cell_type": "markdown",
   "metadata": {
    "id": "45DvtqIz3nlj"
   },
   "source": [
    "## Plot Hyades by position\n",
    "\n",
    "That's a lot of data! Some titles are recognizable, at least, such as 'ra' and 'dec' for Right Ascension and Declination. As a start to plotting and a sanity check, we can see if the cluster stars appear as a cluster if we plot them in RA and Dec. You can access those values in the ap_data Table as: \n",
    "```\n",
    "ap_data['ra']\n",
    "ap_data['dec']\n",
    "```\n",
    "\n",
    "But, we still need to learn how to plot in Python! We'll use the matplotlib module of plotting tools and tell it to show the plots 'inline'. Then the code block below importing matplotlib just gives a very basic example of making a scatter plot. Using that as an example, **make a new code block that makes a scatter plot of the positions of either Hyades or alphaPer**!"
   ]
  },
  {
   "cell_type": "code",
   "execution_count": 5,
   "metadata": {
    "id": "YIrkVjig3nln"
   },
   "outputs": [
    {
     "data": {
      "text/plain": [
       "Text(0.5, 0, 'y')"
      ]
     },
     "execution_count": 5,
     "metadata": {},
     "output_type": "execute_result"
    },
    {
     "data": {
      "image/png": "[encoded data removed]",
      "text/plain": [
       "<Figure size 900x600 with 1 Axes>"
      ]
     },
     "metadata": {
      "needs_background": "light"
     },
     "output_type": "display_data"
    }
   ],
   "source": [
    "# A very basic scatterplot\n",
    "plt.scatter([1,1,3,4,5,3,2],[2,2.5,5,7,9,10,0])\n",
    "plt.ylabel('x')\n",
    "plt.xlabel('y')"
   ]
  },
  {
   "cell_type": "markdown",
   "metadata": {},
   "source": [
    "### Assignment 1\n",
    "\n",
    "Make a plot of the positions of stars in Hyades or alphaPer here."
   ]
  },
  {
   "cell_type": "code",
   "execution_count": 1,
   "metadata": {
    "id": "xU-WxXnW3nlr"
   },
   "outputs": [],
   "source": [
    "# Student work here\n"
   ]
  },
  {
   "cell_type": "markdown",
   "metadata": {
    "id": "CC5Gsi7T3nlu"
   },
   "source": [
    "Hopefully that looks like a set of clustered star locations! But it's clear some symbols are on top of others. We can make that look a little better by making the symbols semi-transparent with the optional parameter 'alpha=0.5' added to the plt.scatter function. Give that a try.\n",
    "\n",
    "## Making a color-magnitude diagram\n",
    "\n",
    "In order to make a color-magnitude diagram, we need at least two measured magnitudes. We can subtract them to make a color index on the x-axis and then have one of them be the magnitude on the y-axis. Gaia has three passbands or filters:\n",
    "- G: 330-1050 nm (column: 'phot_g_mean_mag')\n",
    "- BP: 330-680 nm (column: 'phot_bp_mean_mag')\n",
    "- RP: 630-1050 nm (column: 'phot_rp_mean_mag')\n",
    "\n",
    "Using the same scatter plot function as above, choose the set of magnitudes that you think will give the best ability to discriminate color and plot a color-magnitude diagram for one of the two clusters!\n",
    "\n",
    "(Do you want to flip the y-axis? See if you can find out how to with a quick Google search. If you get stuck, as for help!)"
   ]
  },
  {
   "cell_type": "markdown",
   "metadata": {},
   "source": [
    "### Assignment 2\n",
    "\n",
    "Make color-magnitude diagram for one of the two cluster here. Note that (a) brighter in magnitudes a lower number and (b) the need to label the axes."
   ]
  },
  {
   "cell_type": "code",
   "execution_count": 2,
   "metadata": {
    "id": "ZnQVSM_X3nlu"
   },
   "outputs": [],
   "source": [
    "# Student work here\n"
   ]
  },
  {
   "cell_type": "markdown",
   "metadata": {
    "id": "FgXATR9H3nlx"
   },
   "source": [
    "### Assignment 3\n",
    "\n",
    "Make color-magnitude diagram for one of the two cluster here. Next, add the data from the other cluster in a different color. You can do this by just adding a second plt.scatter() or plt.plot to your code block above.\n",
    "\n",
    "Make two-cluster color-magnitude diagram here (just copy and paste code from above and add a little bit)."
   ]
  },
  {
   "cell_type": "code",
   "execution_count": 3,
   "metadata": {
    "id": "pjkn2a8z3nly"
   },
   "outputs": [],
   "source": [
    "# Student work\n",
    "\n",
    "\n"
   ]
  },
  {
   "cell_type": "markdown",
   "metadata": {},
   "source": [
    "### Assignment 4\n",
    "Discuss the following questions:\n",
    "   1. What type of magnitudes must these be, absolute or apparent? Why?\n",
    "   2. Which cluster is more distant? "
   ]
  },
  {
   "cell_type": "markdown",
   "metadata": {},
   "source": [
    "*student answer here*"
   ]
  },
  {
   "cell_type": "markdown",
   "metadata": {
    "id": "SRlbmCM43nl0"
   },
   "source": [
    "### Assignment 5\n",
    "\n",
    "Finally, let's make a color-magnitude diagram that does correct for distance by having the magnitude corresponding to luminosity on the y-axis. To do that most easily, you probably want to create a function that takes in apparent magnitude and parallax (which is in milli-arcsec in the Gaia data) and computes absolute magnitude. Below is an example of making a simple function in Python. Follow that model to first make the needed function and then plot an absolute magnitude versus color diagram for both clusters!"
   ]
  },
  {
   "cell_type": "code",
   "execution_count": 9,
   "metadata": {
    "id": "gDCqLdkN3nl0"
   },
   "outputs": [],
   "source": [
    "import numpy as np # a package with lots of helpful vector/array math functions\n",
    "\n",
    "def example_function(a,b):\n",
    "    value = np.log10(a)*b\n",
    "    return value"
   ]
  },
  {
   "cell_type": "code",
   "execution_count": 4,
   "metadata": {
    "id": "yT65R7Ei3nl2"
   },
   "outputs": [],
   "source": [
    "# student work here\n"
   ]
  },
  {
   "cell_type": "markdown",
   "metadata": {},
   "source": [
    "### Make your final color-magnitude diagram here. Make sure to label axes!"
   ]
  },
  {
   "cell_type": "code",
   "execution_count": 5,
   "metadata": {
    "id": "g4rv5vnD3nl5"
   },
   "outputs": [],
   "source": [
    "# student work here\n",
    "\n"
   ]
  },
  {
   "cell_type": "markdown",
   "metadata": {},
   "source": [
    "### Do the absolute magnitudes agree? "
   ]
  },
  {
   "cell_type": "markdown",
   "metadata": {},
   "source": [
    "*student answer here*"
   ]
  },
  {
   "cell_type": "markdown",
   "metadata": {
    "id": "WnNsTn3N3nl8"
   },
   "source": [
    "# Stellar Isochrones\n",
    "\n",
    "Models of stellar evolution can predict the color and luminosity of a population of stars at a given age and metallicity (elements other than hydrogen and helium).\n",
    "\n",
    "First we will read in a catalog of values from the MIST. These are text files made from the simulation outputs (http://waps.cfa.harvard.edu/MIST/index.html). \n",
    "\n",
    "The models are for different metallicities. Astronomers count hydrogen, helium and metals (everything else) but this is often measures using Iron (Fe) over hydrogen (H) abundances. This is a logarithmic scale of the ratio of lines observed in a spectrum.\n",
    "Solar metallicity is calibrated as Fe/H = 0. Most younger generations of stars will therefore be lower (negative)."
   ]
  },
  {
   "cell_type": "code",
   "execution_count": 39,
   "metadata": {},
   "outputs": [
    {
     "data": {
      "text/html": [
       "<div><i>Table length=85174</i>\n",
       "<table id=\"table140237947292944\" class=\"table-striped table-bordered table-condensed\">\n",
       "<thead><tr><th>Age</th><th>BP</th><th>RP</th><th>G</th></tr></thead>\n",
       "<thead><tr><th>float64</th><th>float64</th><th>float64</th><th>float64</th></tr></thead>\n",
       "<tr><td>5.0</td><td>7.101481</td><td>5.550901</td><td>5.140868</td></tr>\n",
       "<tr><td>5.0</td><td>7.061173</td><td>5.516664</td><td>5.104341</td></tr>\n",
       "<tr><td>5.0</td><td>6.982573</td><td>5.449829</td><td>5.033046</td></tr>\n",
       "<tr><td>5.0</td><td>6.904818</td><td>5.383682</td><td>4.962464</td></tr>\n",
       "<tr><td>5.0</td><td>6.828053</td><td>5.318356</td><td>4.892738</td></tr>\n",
       "<tr><td>5.0</td><td>6.752297</td><td>5.253782</td><td>4.823795</td></tr>\n",
       "<tr><td>5.0</td><td>6.677513</td><td>5.190015</td><td>4.7556959999999995</td></tr>\n",
       "<tr><td>5.0</td><td>6.603634</td><td>5.127016</td><td>4.688403</td></tr>\n",
       "<tr><td>5.0</td><td>6.530787</td><td>5.064908</td><td>4.6220419999999995</td></tr>\n",
       "<tr><td>5.0</td><td>6.458944</td><td>5.003677</td><td>4.556594</td></tr>\n",
       "<tr><td>...</td><td>...</td><td>...</td><td>...</td></tr>\n",
       "<tr><td>10.3</td><td>-1.267439</td><td>-2.314098</td><td>-2.936999</td></tr>\n",
       "<tr><td>10.3</td><td>-1.30642</td><td>-2.361216</td><td>-2.980436</td></tr>\n",
       "<tr><td>10.3</td><td>-1.345053</td><td>-2.407958</td><td>-3.023523</td></tr>\n",
       "<tr><td>10.3</td><td>-1.383151</td><td>-2.454089</td><td>-3.066047</td></tr>\n",
       "<tr><td>10.3</td><td>-1.420453</td><td>-2.499162</td><td>-3.1076439999999996</td></tr>\n",
       "<tr><td>10.3</td><td>-1.455526</td><td>-2.541374</td><td>-3.146671</td></tr>\n",
       "<tr><td>10.3</td><td>-1.47873</td><td>-2.56838</td><td>-3.1719910000000002</td></tr>\n",
       "<tr><td>10.3</td><td>-1.493304</td><td>-2.584342</td><td>-3.187348</td></tr>\n",
       "<tr><td>10.3</td><td>-1.53195</td><td>-2.631416</td><td>-3.2306749999999997</td></tr>\n",
       "<tr><td>10.3</td><td>-1.571255</td><td>-2.679695</td><td>-3.2749699999999997</td></tr>\n",
       "</table></div>"
      ],
      "text/plain": [
       "<Table length=85174>\n",
       "  Age       BP        RP             G         \n",
       "float64  float64   float64        float64      \n",
       "------- --------- --------- -------------------\n",
       "    5.0  7.101481  5.550901            5.140868\n",
       "    5.0  7.061173  5.516664            5.104341\n",
       "    5.0  6.982573  5.449829            5.033046\n",
       "    5.0  6.904818  5.383682            4.962464\n",
       "    5.0  6.828053  5.318356            4.892738\n",
       "    5.0  6.752297  5.253782            4.823795\n",
       "    5.0  6.677513  5.190015  4.7556959999999995\n",
       "    5.0  6.603634  5.127016            4.688403\n",
       "    5.0  6.530787  5.064908  4.6220419999999995\n",
       "    5.0  6.458944  5.003677            4.556594\n",
       "    ...       ...       ...                 ...\n",
       "   10.3 -1.267439 -2.314098           -2.936999\n",
       "   10.3  -1.30642 -2.361216           -2.980436\n",
       "   10.3 -1.345053 -2.407958           -3.023523\n",
       "   10.3 -1.383151 -2.454089           -3.066047\n",
       "   10.3 -1.420453 -2.499162 -3.1076439999999996\n",
       "   10.3 -1.455526 -2.541374           -3.146671\n",
       "   10.3  -1.47873  -2.56838 -3.1719910000000002\n",
       "   10.3 -1.493304 -2.584342           -3.187348\n",
       "   10.3  -1.53195 -2.631416 -3.2306749999999997\n",
       "   10.3 -1.571255 -2.679695 -3.2749699999999997"
      ]
     },
     "execution_count": 39,
     "metadata": {},
     "output_type": "execute_result"
    }
   ],
   "source": [
    "from astropy.io import ascii\n",
    "import numpy as np\n",
    "mist_FeHm3  = ascii.read(\"MIST_FeHm3.txt\")   # Fe/H = -3 \n",
    "mist_FeHm2  = ascii.read(\"MIST_FeHm2.txt\")   # Fe/H = -2\n",
    "mist_FeHm1  = ascii.read(\"MIST_FeHm1.txt\")   # Fe/H = -1\n",
    "mist_FeHm05 = ascii.read(\"MIST_FeHm05.txt\")  # Fe/H = -0.5\n",
    "mist_FeH0   = ascii.read(\"MIST_FeHm0.txt\")   # Fe/H = 0\n",
    "\n",
    "# correcting the photometry (fudging really)\n",
    "mist_FeHm3['G'] -= 1.2\n",
    "mist_FeHm2['G'] -= 1.2\n",
    "mist_FeHm1['G'] -= 1.2\n",
    "mist_FeHm05['G'] -= 1.2\n",
    "mist_FeH0['G'] -= 1.2\n",
    "\n",
    "mist_FeHm3"
   ]
  },
  {
   "cell_type": "markdown",
   "metadata": {},
   "source": [
    "### Assignment 6 \n",
    "\n",
    "What is in each of these model files?\n",
    "\n",
    "Describe what the table entries are in this model file. \n",
    "Can you make similar points like on the color-magnitude diagram earlier?"
   ]
  },
  {
   "cell_type": "markdown",
   "metadata": {},
   "source": [
    "*student answer here*"
   ]
  },
  {
   "cell_type": "markdown",
   "metadata": {},
   "source": [
    "### MIST Models\n",
    "\n",
    "We will now compare these GAIA H-R plots to the models generated from the MIST project (https://waps.cfa.harvard.edu/MIST/). "
   ]
  },
  {
   "cell_type": "markdown",
   "metadata": {},
   "source": [
    "### Assignment 7\n",
    "\n",
    "Plot the MIST model for Fe/H=-3 and 5 Gyr old population (use np.where).\n",
    "Plot the G Absolute Magnitude as a function of the BP-RP color \n",
    "\n",
    "Note that magnitudes are brighter the lower the number. Adjust your y-limits accordingly"
   ]
  },
  {
   "cell_type": "code",
   "execution_count": 7,
   "metadata": {},
   "outputs": [],
   "source": [
    "# student work here\n"
   ]
  },
  {
   "cell_type": "markdown",
   "metadata": {},
   "source": [
    "### Assignment 8\n",
    "\n",
    "Now plot each age in the range 5-10 Gyr in steps of 1 Gyr.\n",
    "Plot one of the clusters' data on top. "
   ]
  },
  {
   "cell_type": "code",
   "execution_count": 6,
   "metadata": {},
   "outputs": [],
   "source": [
    "# student work here\n"
   ]
  },
  {
   "cell_type": "markdown",
   "metadata": {},
   "source": [
    "### Assignment 9\n",
    "\n",
    "Which of the Fe/H=-3 models seem to agree with the Main Sequence turnoff? What age would you give this cluster *if you assume Fe/H=-3*? Can you refine this estimate some if you make the steps in the previous plot 0.5 Gyr?"
   ]
  },
  {
   "cell_type": "markdown",
   "metadata": {},
   "source": [
    "*student answer here*"
   ]
  },
  {
   "cell_type": "markdown",
   "metadata": {},
   "source": [
    "### Assignment 10\n",
    "\n",
    "Does the best the Fe/H=-3 model describe the color-magnitude diagram of the AP cluster well? Motivate why/why not."
   ]
  },
  {
   "cell_type": "markdown",
   "metadata": {},
   "source": [
    "*student answer here*"
   ]
  },
  {
   "cell_type": "markdown",
   "metadata": {},
   "source": [
    "### Assignment 11\n",
    "\n",
    "Plot another metallicity (not Fe/H=-3) and compare to your choice of cluster's color-magnitude measurements."
   ]
  },
  {
   "cell_type": "code",
   "execution_count": 8,
   "metadata": {},
   "outputs": [],
   "source": [
    "# student work here\n"
   ]
  },
  {
   "cell_type": "markdown",
   "metadata": {},
   "source": [
    "### Assignment 12\n",
    "\n",
    "Which one of these clusters is the oldest? Motivate your anwer using the color-magnitude diagram."
   ]
  },
  {
   "cell_type": "code",
   "execution_count": 9,
   "metadata": {},
   "outputs": [],
   "source": [
    "# student work here\n"
   ]
  },
  {
   "cell_type": "code",
   "execution_count": null,
   "metadata": {},
   "outputs": [],
   "source": []
  }
 ],
 "metadata": {
  "colab": {
   "collapsed_sections": [],
   "name": "GaiaClusterstoShare.ipynb",
   "provenance": []
  },
  "kernelspec": {
   "display_name": "Python 3 (ipykernel)",
   "language": "python",
   "name": "python3"
  },
  "language_info": {
   "codemirror_mode": {
    "name": "ipython",
    "version": 3
   },
   "file_extension": ".py",
   "mimetype": "text/x-python",
   "name": "python",
   "nbconvert_exporter": "python",
   "pygments_lexer": "ipython3",
   "version": "3.9.12"
  }
 },
 "nbformat": 4,
 "nbformat_minor": 4
}
