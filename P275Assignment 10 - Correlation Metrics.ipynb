{
 "cells": [
  {
   "cell_type": "markdown",
   "metadata": {},
   "source": [
    "# Correlation Metrics\n",
    "\n",
    "## Authors\n",
    "B.W. Holwerda\n",
    "\n",
    "## Learning Goals\n",
    "* learn about different correlation metrics\n",
    "* Pearson, Spearman and Kendall Tau rankings\n",
    "* Correlation is not causation\n",
    "* But strong correlation does imply a common origin.\n",
    "\n",
    "## Keywords\n",
    "Pearson ranking, Spearman ranking, Kendall tau ranking, correlation\n",
    "\n",
    "## Companion Content\n",
    "\n",
    "\n",
    "## Summary\n",
    "One of the first things in physics of large data samples is to determine if there are correlations between samples. The Pearson, Spearman and Kendall rankings are all correlation metrics which come with a significance estimate.\n",
    "\n",
    "<hr>"
   ]
  },
  {
   "cell_type": "markdown",
   "metadata": {},
   "source": [
    "\n",
    "## Student Name and ID: Christopher Stephens and 5439371\n",
    "\n",
    "\n",
    "\n",
    "## Date: 11/10/2023\n",
    "\n",
    "<hr>"
   ]
  },
  {
   "cell_type": "markdown",
   "metadata": {},
   "source": [
    "### Galaxy properties.\n",
    "\n",
    "In Assignment 5, we encountered a catalog of galaxies. We will now see which of the galaxy properties are related, how strongly and how significantly.\n",
    "\n",
    "\n",
    "0 - GAMA CATAID\n",
    "\n",
    "1 - Stellar mass (log10 solar masses)\n",
    "\n",
    "2 - u-r colour\n",
    "\n",
    "3 - S'ersic index (log10)\n",
    "\n",
    "4 - Half-light radius (log10 kpc)\n",
    "\n",
    "5 - Specific star formation rate (log10 Gyr^-1)\n",
    "\n"
   ]
  },
  {
   "cell_type": "code",
   "execution_count": 2,
   "metadata": {},
   "outputs": [
    {
     "name": "stdout",
     "output_type": "stream",
     "text": [
      "[(   6802., 9.04805315, 1.3398169 , -0.04411991,  0.04909877, -9.74545192)\n",
      " (   6821., 7.50064806, 0.53505933,  0.76676222, -0.15638103, -8.90204893)\n",
      " (   6989., 7.73407941, 1.0682539 , -0.08586849,  0.08764822, -9.41850546)\n",
      " ...\n",
      " (3913968., 8.54777471, 1.1930662 ,  0.00423537,  0.44101094, -9.82217503)\n",
      " (3913987., 9.72427584, 1.3254836 ,  0.1085312 ,  0.51973835, -9.69143559)\n",
      " (3913997., 8.46434048, 1.0752945 ,  0.24519176,  0.25875511, -9.24328784)]\n"
     ]
    }
   ],
   "source": [
    "import matplotlib.pyplot as plt\n",
    "from astropy.io import ascii\n",
    "from scipy.stats import spearmanr\n",
    "from scipy.stats import pearsonr\n",
    "from scipy.stats import kendalltau\n",
    "import numpy as np\n",
    "\n",
    "\n",
    "# data = ascii.read(\"GAMA.csv\", format='csv', names=['cataid','Mstar','u-r','n','r50','sSFR'],fast_reader=False)\n",
    "\n",
    "data = np.genfromtxt(\"GAMA.csv\",  names=['cataid','Mstar','ur_color','n','r50','sSFR'], delimiter=',')\n",
    "# lets get this thing done BOYS!\n",
    "print(data)"
   ]
  },
  {
   "cell_type": "markdown",
   "metadata": {},
   "source": [
    "## Spearman and Pearson Rankings.\n",
    "\n",
    "**Spearman's ranking** is a nonparametric measure of rank correlation (statistical dependence between the rankings of two variables). It assesses how well the relationship between two variables can be described using a *monotonic function*.\n",
    "\n",
    "**Pearson ranking** is a measure of the *linear* correlation between two variables X and Y. \n",
    "\n",
    "**Kendall $\\tau$** is another measure of monotonic function. Both this and the Spearman ranking are cases of a general correlation coefficient.\n"
   ]
  },
  {
   "cell_type": "markdown",
   "metadata": {
    "tags": []
   },
   "source": [
    "### Exercise 1 -- Which two parameters are the most correlation according to their Spearman ranking\n",
    "\n",
    "hint: run through the list of column names and use *for* loops."
   ]
  },
  {
   "cell_type": "code",
   "execution_count": 5,
   "metadata": {},
   "outputs": [
    {
     "name": "stdout",
     "output_type": "stream",
     "text": [
      "cataid cataid: 1.00000 \t 0.00000\n",
      "cataid Mstar: 0.04537 \t 0.00010\n",
      "cataid ur_color: 0.02186 \t 0.06115\n",
      "cataid     n: -0.01508 \t 0.19640\n",
      "cataid   r50: 0.03082 \t 0.00829\n",
      "cataid  sSFR: 0.01408 \t 0.22787\n",
      "Mstar cataid: 0.04537 \t 0.00010\n",
      "Mstar Mstar: 1.00000 \t 0.00000\n",
      "Mstar ur_color: 0.71900 \t 0.00000\n",
      "Mstar     n: 0.35914 \t 0.00000\n",
      "Mstar   r50: 0.55979 \t 0.00000\n",
      "Mstar  sSFR: -0.61320 \t 0.00000\n",
      "ur_color cataid: 0.02186 \t 0.06115\n",
      "ur_color Mstar: 0.71900 \t 0.00000\n",
      "ur_color ur_color: 1.00000 \t 0.00000\n",
      "ur_color     n: 0.40271 \t 0.00000\n",
      "ur_color   r50: 0.24851 \t 0.00000\n",
      "ur_color  sSFR: -0.83486 \t 0.00000\n",
      "    n cataid: -0.01508 \t 0.19640\n",
      "    n Mstar: 0.35914 \t 0.00000\n",
      "    n ur_color: 0.40271 \t 0.00000\n",
      "    n     n: 1.00000 \t 0.00000\n",
      "    n   r50: 0.03651 \t 0.00176\n",
      "    n  sSFR: -0.37945 \t 0.00000\n",
      "  r50 cataid: 0.03082 \t 0.00829\n",
      "  r50 Mstar: 0.55979 \t 0.00000\n",
      "  r50 ur_color: 0.24851 \t 0.00000\n",
      "  r50     n: 0.03651 \t 0.00176\n",
      "  r50   r50: 1.00000 \t 0.00000\n",
      "  r50  sSFR: -0.19057 \t 0.00000\n",
      " sSFR cataid: 0.01408 \t 0.22787\n",
      " sSFR Mstar: -0.61320 \t 0.00000\n",
      " sSFR ur_color: -0.83486 \t 0.00000\n",
      " sSFR     n: -0.37945 \t 0.00000\n",
      " sSFR   r50: -0.19057 \t 0.00000\n",
      " sSFR  sSFR: 1.00000 \t 0.00000\n",
      "\n",
      "\n",
      "ur_color  sSFR: 0.83486 \t 0.00000\n"
     ]
    }
   ],
   "source": [
    "# student work here\n",
    "names=['cataid','Mstar','ur_color','n','r50','sSFR']\n",
    "maxspearman = 0\n",
    "for val1 in names:\n",
    "    for val2 in names:\n",
    "        spearman, pval = spearmanr(data[val1], data[val2])\n",
    "        print('%5s %5s: %4.5f \\t %4.5f' % (val1, val2, spearman,pval))\n",
    "        if abs(spearman) > maxspearman and val1 != val2:\n",
    "            maxspearman = abs(spearman)\n",
    "            maxval1 = val1\n",
    "            maxval2 = val2\n",
    "            maxpval = pval\n",
    "\n",
    "print('\\n')\n",
    "print('%5s %5s: %4.5f \\t %4.5f' % (maxval1, maxval2, maxspearman,maxpval))\n"
   ]
  },
  {
   "cell_type": "markdown",
   "metadata": {},
   "source": [
    "### Exercise 2 -- Is that correlation statistically significant? \n",
    "\n",
    "What is the p-value?"
   ]
  },
  {
   "cell_type": "markdown",
   "metadata": {},
   "source": [
    "*your answer here*\n",
    "0"
   ]
  },
  {
   "cell_type": "markdown",
   "metadata": {},
   "source": [
    "### Exercise 3 -- Did you use an 'if' statement to find the highest ranking? \n",
    "\n",
    "if not, what would one look like?"
   ]
  },
  {
   "cell_type": "markdown",
   "metadata": {},
   "source": [
    "*your answer here*\n",
    "Yes!"
   ]
  },
  {
   "cell_type": "markdown",
   "metadata": {},
   "source": [
    "### Exercise 4 --  Which two parameters are the most correlation according to their Pearson ranking\n",
    "\n",
    "hint: define the list of column names and use *for* loops."
   ]
  },
  {
   "cell_type": "code",
   "execution_count": 6,
   "metadata": {},
   "outputs": [
    {
     "name": "stdout",
     "output_type": "stream",
     "text": [
      "cataid cataid: 1.00000 \t 0.00000\n",
      "cataid Mstar: 0.02863 \t 0.01418\n",
      "cataid ur_color: 0.00033 \t 0.97750\n",
      "cataid     n: -0.01276 \t 0.27442\n",
      "cataid   r50: 0.02562 \t 0.02819\n",
      "cataid  sSFR: 0.01505 \t 0.19726\n",
      "Mstar cataid: 0.02863 \t 0.01418\n",
      "Mstar Mstar: 1.00000 \t 0.00000\n",
      "Mstar ur_color: 0.74484 \t 0.00000\n",
      "Mstar     n: 0.42056 \t 0.00000\n",
      "Mstar   r50: 0.58792 \t 0.00000\n",
      "Mstar  sSFR: -0.58382 \t 0.00000\n",
      "ur_color cataid: 0.00033 \t 0.97750\n",
      "ur_color Mstar: 0.74484 \t 0.00000\n",
      "ur_color ur_color: 1.00000 \t 0.00000\n",
      "ur_color     n: 0.47684 \t 0.00000\n",
      "ur_color   r50: 0.27085 \t 0.00000\n",
      "ur_color  sSFR: -0.81018 \t 0.00000\n",
      "    n cataid: -0.01276 \t 0.27442\n",
      "    n Mstar: 0.42056 \t 0.00000\n",
      "    n ur_color: 0.47684 \t 0.00000\n",
      "    n     n: 1.00000 \t 0.00000\n",
      "    n   r50: 0.09432 \t 0.00000\n",
      "    n  sSFR: -0.46669 \t 0.00000\n",
      "  r50 cataid: 0.02562 \t 0.02819\n",
      "  r50 Mstar: 0.58792 \t 0.00000\n",
      "  r50 ur_color: 0.27085 \t 0.00000\n",
      "  r50     n: 0.09432 \t 0.00000\n",
      "  r50   r50: 1.00000 \t 0.00000\n",
      "  r50  sSFR: -0.16003 \t 0.00000\n",
      " sSFR cataid: 0.01505 \t 0.19726\n",
      " sSFR Mstar: -0.58382 \t 0.00000\n",
      " sSFR ur_color: -0.81018 \t 0.00000\n",
      " sSFR     n: -0.46669 \t 0.00000\n",
      " sSFR   r50: -0.16003 \t 0.00000\n",
      " sSFR  sSFR: 1.00000 \t 0.00000\n",
      "\n",
      "\n",
      "ur_color  sSFR: 0.81018 \t 0.00000\n"
     ]
    }
   ],
   "source": [
    "# student work here\n",
    "names=['cataid','Mstar','ur_color','n','r50','sSFR']\n",
    "maxpearson = 0\n",
    "for val1 in names:\n",
    "    for val2 in names:\n",
    "        pearson, pval = pearsonr(data[val1], data[val2])\n",
    "        print('%5s %5s: %4.5f \\t %4.5f' % (val1, val2, pearson,pval))\n",
    "        if abs(pearson) > maxpearson and val1 != val2:\n",
    "            maxpearson = abs(pearson)\n",
    "            maxval1 = val1\n",
    "            maxval2 = val2\n",
    "            maxpval = pval\n",
    "\n",
    "print('\\n')\n",
    "print('%5s %5s: %4.5f \\t %4.5f' % (maxval1, maxval2, maxpearson,maxpval))"
   ]
  },
  {
   "cell_type": "markdown",
   "metadata": {},
   "source": [
    "### Exercise 5 -- Now do this for the Kendall $\\tau$"
   ]
  },
  {
   "cell_type": "code",
   "execution_count": 4,
   "metadata": {},
   "outputs": [],
   "source": [
    "# student work here\n",
    "\n",
    "\n"
   ]
  },
  {
   "cell_type": "markdown",
   "metadata": {},
   "source": [
    "### Exercise 6 -- Plot the most and second most correlated values against each other\n",
    "\n",
    "According to the above correlation functions, two pairs of values are most correlated. "
   ]
  },
  {
   "cell_type": "code",
   "execution_count": 5,
   "metadata": {},
   "outputs": [],
   "source": [
    "## Plot the two most correlated values \n",
    "# student work here\n"
   ]
  },
  {
   "cell_type": "code",
   "execution_count": 6,
   "metadata": {},
   "outputs": [],
   "source": [
    "## plot the second most correlated values here:\n",
    "# student work here\n"
   ]
  },
  {
   "cell_type": "markdown",
   "metadata": {},
   "source": [
    "### Exercise 7 -- Are both correlations the similar?\n",
    "\n",
    "The two strongest correlations, are they similar? Or is there evidence for sub-populations? (hint: set alpha=0.1 to see the density of points).\n"
   ]
  },
  {
   "cell_type": "markdown",
   "metadata": {},
   "source": [
    "*your answer here*\n",
    "The two strongest correlations I have noticed: (u-r color and specific star formation rate) and (half-light radius and specific star formation rate.  Is there evidence of subpopulations? Well to answer this question I must first address"
   ]
  },
  {
   "cell_type": "markdown",
   "metadata": {
    "tags": []
   },
   "source": [
    "### Exercise 8 -- Use the correlation\n",
    "\n",
    "Do you think the u-r color would make a good estimator for the stellar mass? Motivate why or why not."
   ]
  },
  {
   "cell_type": "markdown",
   "metadata": {},
   "source": [
    "*your answer and motivation here*\n",
    "Yes. The pval indicates significance"
   ]
  },
  {
   "cell_type": "markdown",
   "metadata": {},
   "source": [
    "### Galaxy properties.\n",
    "\n",
    "In Assignment 5, we encountered a catalog of galaxies. We will now see which of the galaxy properties are related, how strongly and how significantly.\n",
    "\n",
    "\n",
    "0 - GAMA CATAID\n",
    "\n",
    "1 - Stellar mass (log10 solar masses)\n",
    "\n",
    "2 - u-r colour\n",
    "\n",
    "3 - S'ersic index (log10)\n",
    "\n",
    "4 - Half-light radius (log10 kpc)\n",
    "\n",
    "5 - Specific star formation rate (log10 Gyr^-1)\n",
    "\n"
   ]
  }
 ],
 "metadata": {
  "kernelspec": {
   "display_name": "Python 3 (ipykernel)",
   "language": "python",
   "name": "python3"
  },
  "language_info": {
   "codemirror_mode": {
    "name": "ipython",
    "version": 3
   },
   "file_extension": ".py",
   "mimetype": "text/x-python",
   "name": "python",
   "nbconvert_exporter": "python",
   "pygments_lexer": "ipython3",
   "version": "3.9.12"
  }
 },
 "nbformat": 4,
 "nbformat_minor": 4
}
